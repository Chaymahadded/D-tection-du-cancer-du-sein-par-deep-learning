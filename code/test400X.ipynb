{
  "cells": [
    {
      "cell_type": "code",
      "execution_count": null,
      "metadata": {
        "id": "WPrKpWX6pilo"
      },
      "outputs": [],
      "source": [
        "from google.colab import drive\n",
        "drive.mount('/content/drive')"
      ]
    },
    {
      "cell_type": "code",
      "execution_count": null,
      "metadata": {
        "id": "jYrLC2QSHGr1"
      },
      "outputs": [],
      "source": [
        "import tensorflow as tf\n",
        "import os\n",
        "import numpy as np\n",
        "import pandas as pd\n",
        "import matplotlib.pyplot as plt\n",
        "%matplotlib inline\n",
        "from tensorflow.keras.preprocessing import image\n",
        "from keras.preprocessing.image import ImageDataGenerator\n",
        "from tensorflow.keras.metrics import categorical_crossentropy\n",
        "from keras.models import Sequential, Model\n",
        "from keras.layers import Conv2D, MaxPooling2D,GlobalAveragePooling2D\n",
        "from keras.layers import Activation, Dropout, BatchNormalization, Flatten, Dense, AvgPool2D,MaxPool2D\n",
        "from keras.models import Sequential, Model\n",
        "from keras.layers import BatchNormalization\n",
        "from tensorflow.keras.optimizers import Adam\n",
        "import cv2"
      ]
    },
    {
      "cell_type": "code",
      "execution_count": null,
      "metadata": {
        "id": "f3wLaJSHh1IX"
      },
      "outputs": [],
      "source": [
        "import os\n",
        "import cv2\n",
        "import numpy as np"
      ]
    },
    {
      "cell_type": "markdown",
      "metadata": {
        "id": "DZJ7KjcAjO-T"
      },
      "source": [
        "# ***Training***\n"
      ]
    },
    {
      "cell_type": "markdown",
      "metadata": {
        "id": "dLbQYz7PjPHK"
      },
      "source": [
        "***Pour lire le  dossier benign***"
      ]
    },
    {
      "cell_type": "code",
      "execution_count": null,
      "metadata": {
        "id": "lYCvfxu4jLHi"
      },
      "outputs": [],
      "source": [
        "dossier1=os.listdir('/content/drive/MyDrive/BreaKHis_400X/train/benign') #affiche les noms des fichiers sous forme de liste\n",
        "dossier1.sort()\n",
        "benign=np.zeros((371,128,256,3)) # a: nombre des image, b: hauteur des images, c: largeur des images\n",
        "labels_training=np.zeros(1148)\n",
        "for i1 in range(len(dossier1)):\n",
        "    print(dossier1[i1]) #afficher les nom des fichiers au cours du lecture\n",
        "    nom1='/content/drive/MyDrive/BreaKHis_400X/train/benign/'+dossier1[i1]\n",
        "    image1=cv2.imread(nom1)\n",
        "    image2 = cv2.resize(image1, (256,128))\n",
        "    benign[i1]=image2"
      ]
    },
    {
      "cell_type": "markdown",
      "metadata": {
        "id": "4Dkj3qD8jlhR"
      },
      "source": [
        "***Pour lire le  dossier malignant***"
      ]
    },
    {
      "cell_type": "code",
      "execution_count": null,
      "metadata": {
        "id": "lBnVlrLKjko6"
      },
      "outputs": [],
      "source": [
        "dossier2 = os.listdir('/content/drive/MyDrive/BreaKHis_400X/train/malignant')# affiche les noms des fichiers sous forme de liste\n",
        "dossier2.sort()\n",
        "malign = np.zeros((777,128,256, 3))# a: nombre des image, b: hauteur des images, c: largeur des images\n",
        "i=371\n",
        "for i1 in range(len(dossier2)):\n",
        "        print(dossier2[i1]) # afficher les nom des fichiers au cours du lecture\n",
        "        nom2 = '/content/drive/MyDrive/BreaKHis_400X/train/malignant/'+dossier2[i1]\n",
        "        image1 = cv2.imread(nom2)\n",
        "        image2=cv2.resize(image1,(256,128))\n",
        "        malign[i1] = image2\n",
        "        labels_training[i]=1\n",
        "        i=i+1\n",
        "data_training=np.concatenate((benign,malign),axis=0)"
      ]
    },
    {
      "cell_type": "code",
      "execution_count": null,
      "metadata": {
        "id": "NoSg7L9iqiSS"
      },
      "outputs": [],
      "source": [
        "print(data_training)"
      ]
    },
    {
      "cell_type": "markdown",
      "metadata": {
        "id": "Fga-Vr6kjwDh"
      },
      "source": [
        "# ***Testing***"
      ]
    },
    {
      "cell_type": "markdown",
      "metadata": {
        "id": "hHJwUhSlj5zX"
      },
      "source": [
        "***Pour lire le dossier benign***"
      ]
    },
    {
      "cell_type": "code",
      "execution_count": null,
      "metadata": {
        "id": "gJU5B5djj-QK"
      },
      "outputs": [],
      "source": [
        "dossier1=os.listdir('/content/drive/MyDrive/BreaKHis_400X/test/benign') #affiche les noms des fichiers sous forme de liste\n",
        "dossier1.sort()\n",
        "benign=np.zeros((176,128,256,3)) # a: nombre des image, b: hauteur des images, c: largeur des images\n",
        "labels_testing=np.zeros(545)\n",
        "for i1 in range(len(dossier1)):\n",
        "    print(dossier1[i1]) #afficher les nom des fichiers au cours du lecture\n",
        "    nom1='/content/drive/MyDrive/BreaKHis_400X/test/benign/'+dossier1[i1]\n",
        "    image1=cv2.imread(nom1)\n",
        "    image2 = cv2.resize(image1, (256,128))\n",
        "    benign[i1]=image2"
      ]
    },
    {
      "cell_type": "markdown",
      "metadata": {
        "id": "vpYTbPkdjwG9"
      },
      "source": [
        "***Pour lire le dossier malignant***"
      ]
    },
    {
      "cell_type": "code",
      "execution_count": null,
      "metadata": {
        "id": "23wuQ4B_kCUx"
      },
      "outputs": [],
      "source": [
        "dossier2 = os.listdir('/content/drive/MyDrive/BreaKHis_400X/test/malignant')# affiche les noms des fichiers sous forme de liste\n",
        "dossier2.sort()\n",
        "malign = np.zeros((369,128,256, 3))# a: nombre des image, b: hauteur des images, c: largeur des images\n",
        "i=176\n",
        "for i1 in range(len(dossier2)):\n",
        "        print(dossier2[i1]) # afficher les nom des fichiers au cours du lecture\n",
        "        nom2 = '/content/drive/MyDrive/BreaKHis_400X/test/malignant/'+dossier2[i1]\n",
        "        image1 = cv2.imread(nom2)\n",
        "        image2=cv2.resize(image1,(256,128))\n",
        "        malign[i1] = image2\n",
        "        labels_testing[i]=1\n",
        "        i=i+1\n",
        "data_testing=np.concatenate((benign,malign),axis=0)"
      ]
    },
    {
      "cell_type": "code",
      "execution_count": null,
      "metadata": {
        "id": "6r9v3Ep6kHZ5"
      },
      "outputs": [],
      "source": [
        "print(data_testing)"
      ]
    },
    {
      "cell_type": "markdown",
      "metadata": {
        "id": "hDhxLUf9kI64"
      },
      "source": [
        "# ***Create the convolutional model***"
      ]
    },
    {
      "cell_type": "code",
      "execution_count": null,
      "metadata": {
        "id": "lTg2XQn8kNJW"
      },
      "outputs": [],
      "source": [
        "import tensorflow as tf\n",
        "\n",
        "import matplotlib.pyplot as plt\n",
        "\n",
        "from tensorflow.keras import datasets, layers, models\n",
        "\n",
        "from tensorflow.keras.optimizers import Adam\n",
        "\n",
        "import pandas as pd\n",
        "\n",
        "from tensorflow import keras\n",
        "\n",
        "from tensorflow.keras.utils import plot_model"
      ]
    },
    {
      "cell_type": "code",
      "execution_count": null,
      "metadata": {
        "id": "pf0raXurFgxm"
      },
      "outputs": [],
      "source": [
        "model = models.Sequential()\n",
        "\n",
        "# Create new model on top\n",
        "inputs = keras.Input(shape=(128, 256, 3))\n",
        "\n",
        "x = model(inputs, training=False)\n",
        "\n",
        "layer1=keras.layers.Conv2D(32, (5,5), activation='relu')(x)\n",
        "layer1=keras.layers.BatchNormalization(axis=-1)(layer1)\n",
        "layer1=keras.layers.MaxPooling2D((3,3))(layer1)\n",
        "layer1=keras.layers.Dropout(0.2)(layer1)\n",
        "\n",
        "layer2=keras.layers.Conv2D(64, (5,5), activation='relu')(layer1)\n",
        "layer2=keras.layers.BatchNormalization(axis=-1)(layer2)\n",
        "layer2=keras.layers.MaxPooling2D((3,3))(layer2)\n",
        "layer2=keras.layers.Dropout(0.2)(layer2)\n",
        "\n",
        "layer3=keras.layers.Conv2D(128, (5,5), activation='relu')(layer2)\n",
        "layer3=keras.layers.BatchNormalization(axis=-1)(layer3)\n",
        "layer3=keras.layers.MaxPooling2D((3,3))(layer3)\n",
        "layer3=keras.layers.Dropout(0.2)(layer3)\n",
        "\n",
        "layer_flatten=keras.layers.Flatten()(layer3)\n",
        "\n",
        "y=keras.layers.Dense(1500, activation='relu')(layer_flatten)\n",
        "y=keras.layers.Dense(500, activation='relu')(y)\n",
        "y=keras.layers.Dense(64, activation='relu')(y)\n",
        "outputs = keras.layers.Dense(1)(y)\n",
        "\n",
        "\n",
        "model = keras.Model(inputs, outputs)\n",
        "\n",
        "model.summary()"
      ]
    },
    {
      "cell_type": "code",
      "execution_count": null,
      "metadata": {
        "id": "78w6GtONCTWP"
      },
      "outputs": [],
      "source": [
        "plot_model(model, show_shapes=True, show_layer_names=False)"
      ]
    },
    {
      "cell_type": "code",
      "execution_count": null,
      "metadata": {
        "id": "eoM-l_hrkUPn"
      },
      "outputs": [],
      "source": [
        "model.compile(optimizer=tf.keras.optimizers.Adam(learning_rate=0.0001),\n",
        "              loss=tf.keras.losses.BinaryCrossentropy(from_logits=True),\n",
        "              metrics=['accuracy'])"
      ]
    },
    {
      "cell_type": "code",
      "execution_count": null,
      "metadata": {
        "id": "iHFMy77XkZhM"
      },
      "outputs": [],
      "source": [
        "history = model.fit(data_training, labels_training, epochs=1, batch_size=300, validation_batch_size=64,\n",
        "                    validation_data=(data_testing, labels_testing))"
      ]
    },
    {
      "cell_type": "markdown",
      "metadata": {
        "id": "bweLHjrzkeRp"
      },
      "source": [
        "# ***Evaluate the model***"
      ]
    },
    {
      "cell_type": "code",
      "execution_count": null,
      "metadata": {
        "id": "2s-vRtRXkd2D"
      },
      "outputs": [],
      "source": [
        "pd.DataFrame(.history).plot(figsize=(8, 5))\n",
        "plt.grid(True)\n",
        "plt.gca().set_ylim(0, 1)\n",
        "plt.show()"
      ]
    },
    {
      "cell_type": "code",
      "execution_count": null,
      "metadata": {
        "id": "n5VyaalOkpYm"
      },
      "outputs": [],
      "source": [
        "test_loss, test_acc = model.evaluate(data_testing, labels_testing, verbose=2)\n",
        "\n",
        "print(test_acc)"
      ]
    },
    {
      "cell_type": "code",
      "execution_count": null,
      "metadata": {
        "id": "JcfxcN0BEe2y"
      },
      "outputs": [],
      "source": [
        "predictions1 = model.predict(data_testing)\n",
        "print(predictions1)"
      ]
    },
    {
      "cell_type": "code",
      "execution_count": null,
      "metadata": {
        "id": "8I6vNK0SYOlF"
      },
      "outputs": [],
      "source": [
        "model.save(\"model.h5\")"
      ]
    },
    {
      "cell_type": "markdown",
      "metadata": {
        "id": "A5YJA2S55NN7"
      },
      "source": [
        "# ***SVM***"
      ]
    },
    {
      "cell_type": "code",
      "execution_count": null,
      "metadata": {
        "id": "1ULhmWvCs60y"
      },
      "outputs": [],
      "source": [
        "pip install keract"
      ]
    },
    {
      "cell_type": "code",
      "execution_count": null,
      "metadata": {
        "id": "mo8hsWtBWf2U"
      },
      "outputs": [],
      "source": [
        "from keract import get_activations, display_activations"
      ]
    },
    {
      "cell_type": "code",
      "execution_count": null,
      "metadata": {
        "id": "FdLjZZO0Wb7U"
      },
      "outputs": [],
      "source": [
        "activations1 = get_activations(model,data_training[:400],layer_names='flatten')"
      ]
    },
    {
      "cell_type": "code",
      "execution_count": null,
      "metadata": {
        "id": "yMWOXzqxnIN0"
      },
      "outputs": [],
      "source": [
        "activations = get_activations(model,data_training[400:],layer_names='flatten')"
      ]
    },
    {
      "cell_type": "code",
      "execution_count": null,
      "metadata": {
        "id": "GSOIgBGaqa6J"
      },
      "outputs": [],
      "source": [
        "x_train = activations1\n",
        "x_train= x_train[\"flatten\"]\n",
        "\n",
        "x_act = activations\n",
        "x_act= x_act[\"flatten\"]\n",
        "\n",
        "x_train_t =np.concatenate((x_train,x_act), axis=0)\n",
        "\n",
        "x_train = np.array(x_train_t.reshape(1148,1792))\n",
        "x_train = np.asmatrix(x_train)"
      ]
    },
    {
      "cell_type": "code",
      "execution_count": null,
      "metadata": {
        "id": "0khJ6QE0uItN"
      },
      "outputs": [],
      "source": [
        "activations2 = get_activations(model,data_testing,layer_names='flatten')"
      ]
    },
    {
      "cell_type": "code",
      "execution_count": null,
      "metadata": {
        "id": "qYaCf692uAxN"
      },
      "outputs": [],
      "source": [
        "x_test = activations2\n",
        "x_test= x_test[\"flatten\"]\n",
        "\n",
        "x_test = np.array(x_test.reshape(545,1792))\n",
        "x_test = np.asmatrix(x_test)"
      ]
    },
    {
      "cell_type": "code",
      "execution_count": null,
      "metadata": {
        "id": "QlfK0homWgiP"
      },
      "outputs": [],
      "source": [
        "display_activations(activations, cmap=\"gray\", save=False)"
      ]
    },
    {
      "cell_type": "code",
      "execution_count": null,
      "metadata": {
        "id": "rJj_ciNh4R9N"
      },
      "outputs": [],
      "source": [
        "import pandas as pd\n",
        "from sklearn.model_selection import train_test_split\n",
        "from sklearn.svm import SVC\n",
        "\n",
        "from matplotlib import pyplot as plt\n",
        "%matplotlib inline"
      ]
    },
    {
      "cell_type": "code",
      "execution_count": null,
      "metadata": {
        "id": "9psXFuW34R95"
      },
      "outputs": [],
      "source": [
        "model1 = SVC(kernel='rbf',gamma=\"auto\",C=20.0,tol=0.001)"
      ]
    },
    {
      "cell_type": "code",
      "execution_count": null,
      "metadata": {
        "id": "IZiGvCuo4R96"
      },
      "outputs": [],
      "source": [
        "model1.fit(x_train, labels_training)"
      ]
    },
    {
      "cell_type": "code",
      "execution_count": null,
      "metadata": {
        "id": "amz1J4PpQKii"
      },
      "outputs": [],
      "source": [
        "print(x_test)"
      ]
    },
    {
      "cell_type": "code",
      "execution_count": null,
      "metadata": {
        "id": "36dAjpfIRMGN"
      },
      "outputs": [],
      "source": [
        "x_test.shape"
      ]
    },
    {
      "cell_type": "code",
      "execution_count": null,
      "metadata": {
        "id": "fLofMY7K4R98"
      },
      "outputs": [],
      "source": [
        "predictions = model1.predict(x_test)\n",
        "print(predictions)"
      ]
    },
    {
      "cell_type": "code",
      "execution_count": null,
      "metadata": {
        "id": "Gt_VYp4NlK3f"
      },
      "outputs": [],
      "source": [
        "labels_testing"
      ]
    },
    {
      "cell_type": "code",
      "execution_count": null,
      "metadata": {
        "id": "t0Y3jWC94R99"
      },
      "outputs": [],
      "source": [
        "percentage = model1.score(x_test,labels_testing)"
      ]
    },
    {
      "cell_type": "code",
      "execution_count": null,
      "metadata": {
        "id": "T8tVg8CT4R99"
      },
      "outputs": [],
      "source": [
        "from sklearn.metrics import confusion_matrix\n",
        "from sklearn.metrics import classification_report\n",
        "from sklearn.metrics import ConfusionMatrixDisplay\n",
        "res = confusion_matrix(labels_testing, predictions)\n",
        "print(\"Confusion Matrix\")\n",
        "print(res)\n",
        "print(f\"Test Set: {len(data_testing)}\")\n",
        "print(f\"Accuracy = {percentage*100} %\")\n",
        "print(classification_report(labels_testing,predictions))"
      ]
    },
    {
      "cell_type": "code",
      "execution_count": null,
      "metadata": {
        "id": "7ggZOV0KwCDk"
      },
      "outputs": [],
      "source": [
        "label_names = [0,1]\n",
        "\n",
        "disp = ConfusionMatrixDisplay(res, display_labels=label_names)\n",
        "disp = disp.plot(cmap=plt.cm.Blues, values_format = 'g')\n",
        "plt.show()"
      ]
    },
    {
      "cell_type": "code",
      "execution_count": null,
      "metadata": {
        "id": "e8zOGXYcUp73"
      },
      "outputs": [],
      "source": [
        "#tester le model\n",
        "from PIL import Image\n",
        "model_path = \"modelSVM.h5\"\n",
        "loaded_model = pickle.load(open(model_path, 'rb'))\n",
        "\n",
        "image = cv2.imread(\"/content/drive/MyDrive/BreaKHis_400X/test/benign/SOB_B_A-14-22549AB-400-019.png\")\n",
        "\n",
        "image = cv2.resize(image, (256, 128))\n",
        "image = np.expand_dims(image, 0)\n",
        "image = get_activations(model,image,layer_names='flatten')\n",
        "image = image['flatten']\n",
        "\n",
        "image = np.asmatrix(image)\n",
        "print(image)\n",
        "pred = loaded_model.predict(image)\n",
        "print(pred)\n",
        "\n",
        "if pred == 1:\n",
        "  print(\"Malignant\")\n",
        "else:\n",
        "  print(\"benign\")\n"
      ]
    }
  ],
  "metadata": {
    "colab": {
      "collapsed_sections": [
        "DZJ7KjcAjO-T",
        "Fga-Vr6kjwDh"
      ],
      "provenance": []
    },
    "kernelspec": {
      "display_name": "Python 3",
      "name": "python3"
    },
    "language_info": {
      "name": "python"
    }
  },
  "nbformat": 4,
  "nbformat_minor": 0
}